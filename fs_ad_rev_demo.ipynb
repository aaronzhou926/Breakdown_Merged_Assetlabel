{
 "cells": [
  {
   "cell_type": "code",
   "execution_count": 1,
   "metadata": {},
   "outputs": [],
   "source": [
    "import pandas as pd"
   ]
  },
  {
   "cell_type": "code",
   "execution_count": 2,
   "metadata": {},
   "outputs": [],
   "source": [
    "claim = pd.read_excel('claim_summary1.xlsx')"
   ]
  },
  {
   "cell_type": "code",
   "execution_count": 3,
   "metadata": {},
   "outputs": [],
   "source": [
    "claim_1 = claim.copy()"
   ]
  },
  {
   "cell_type": "code",
   "execution_count": 4,
   "metadata": {},
   "outputs": [
    {
     "data": {
      "text/plain": [
       "Index(['Video ID', 'Content Type', 'Policy', 'Video Title',\n",
       "       'Video Duration (sec)', 'Username', 'Uploader', 'Channel Display Name',\n",
       "       'Channel ID', 'Claim Type', 'Claim Origin', 'Multiple Claims?',\n",
       "       'Category', 'Asset ID', 'Asset Labels', 'Asset Channel ID', 'Custom ID',\n",
       "       'Asset Title', 'Season', 'Episode Title', 'Episode Number', 'TMS',\n",
       "       'Owned Views', 'Owned Views : Watch Page',\n",
       "       'Owned Views : Embedded Player',\n",
       "       'YouTube Revenue Split : DoubleClick Served Partner Sold',\n",
       "       'YouTube Revenue Split : Partner Served Partner Sold',\n",
       "       'YouTube Revenue Split', 'Partner Revenue'],\n",
       "      dtype='object')"
      ]
     },
     "execution_count": 4,
     "metadata": {},
     "output_type": "execute_result"
    }
   ],
   "source": [
    "claim_1.columns"
   ]
  },
  {
   "cell_type": "code",
   "execution_count": 5,
   "metadata": {},
   "outputs": [],
   "source": [
    "claim_1 = claim_1[['Content Type','Video Title','Channel Display Name','Asset Labels','Owned Views'\n",
    "                   ,'YouTube Revenue Split','Partner Revenue']]"
   ]
  },
  {
   "cell_type": "code",
   "execution_count": 6,
   "metadata": {},
   "outputs": [],
   "source": [
    "claim_1 = claim_1.rename(columns={'Content Type':'content_type','Video Title':'video_title','Channel Display Name':'channel_display_name',\n",
    "                                  'Asset Labels':'asset_labels','Owned Views':'owned_views',\n",
    "                                  'YouTube Revenue Split':'youtube_revenue','Partner Revenue':'partner_revenue'})"
   ]
  },
  {
   "cell_type": "code",
   "execution_count": 7,
   "metadata": {},
   "outputs": [],
   "source": [
    "claim_1 = claim_1.fillna(0)"
   ]
  },
  {
   "cell_type": "code",
   "execution_count": 8,
   "metadata": {},
   "outputs": [
    {
     "data": {
      "text/html": [
       "<div>\n",
       "<style scoped>\n",
       "    .dataframe tbody tr th:only-of-type {\n",
       "        vertical-align: middle;\n",
       "    }\n",
       "\n",
       "    .dataframe tbody tr th {\n",
       "        vertical-align: top;\n",
       "    }\n",
       "\n",
       "    .dataframe thead th {\n",
       "        text-align: right;\n",
       "    }\n",
       "</style>\n",
       "<table border=\"1\" class=\"dataframe\">\n",
       "  <thead>\n",
       "    <tr style=\"text-align: right;\">\n",
       "      <th></th>\n",
       "      <th>content_type</th>\n",
       "      <th>video_title</th>\n",
       "      <th>channel_display_name</th>\n",
       "      <th>asset_labels</th>\n",
       "      <th>owned_views</th>\n",
       "      <th>youtube_revenue</th>\n",
       "      <th>partner_revenue</th>\n",
       "    </tr>\n",
       "  </thead>\n",
       "  <tbody>\n",
       "    <tr>\n",
       "      <th>0</th>\n",
       "      <td>UGC</td>\n",
       "      <td>0.0</td>\n",
       "      <td>0.0</td>\n",
       "      <td>AA|BB</td>\n",
       "      <td>44451</td>\n",
       "      <td>53.806053</td>\n",
       "      <td>29.596671</td>\n",
       "    </tr>\n",
       "    <tr>\n",
       "      <th>1</th>\n",
       "      <td>Partner-provided</td>\n",
       "      <td>0.0</td>\n",
       "      <td>0.0</td>\n",
       "      <td>AA</td>\n",
       "      <td>11911</td>\n",
       "      <td>132.844946</td>\n",
       "      <td>40.025317</td>\n",
       "    </tr>\n",
       "    <tr>\n",
       "      <th>2</th>\n",
       "      <td>UGC</td>\n",
       "      <td>0.0</td>\n",
       "      <td>0.0</td>\n",
       "      <td>AA|CC</td>\n",
       "      <td>591</td>\n",
       "      <td>3.670739</td>\n",
       "      <td>2.018990</td>\n",
       "    </tr>\n",
       "    <tr>\n",
       "      <th>3</th>\n",
       "      <td>0</td>\n",
       "      <td>0.0</td>\n",
       "      <td>0.0</td>\n",
       "      <td>0</td>\n",
       "      <td>338</td>\n",
       "      <td>3.551280</td>\n",
       "      <td>0.957647</td>\n",
       "    </tr>\n",
       "  </tbody>\n",
       "</table>\n",
       "</div>"
      ],
      "text/plain": [
       "       content_type  video_title  channel_display_name asset_labels  \\\n",
       "0               UGC          0.0                   0.0        AA|BB   \n",
       "1  Partner-provided          0.0                   0.0           AA   \n",
       "2               UGC          0.0                   0.0        AA|CC   \n",
       "3                 0          0.0                   0.0            0   \n",
       "\n",
       "   owned_views  youtube_revenue  partner_revenue  \n",
       "0        44451        53.806053        29.596671  \n",
       "1        11911       132.844946        40.025317  \n",
       "2          591         3.670739         2.018990  \n",
       "3          338         3.551280         0.957647  "
      ]
     },
     "execution_count": 8,
     "metadata": {},
     "output_type": "execute_result"
    }
   ],
   "source": [
    "claim_1"
   ]
  },
  {
   "cell_type": "markdown",
   "metadata": {},
   "source": [
    "Separate content types: UGC and Partner-Provided"
   ]
  },
  {
   "cell_type": "code",
   "execution_count": 9,
   "metadata": {},
   "outputs": [],
   "source": [
    "ugc = claim_1[claim_1['content_type'] == 'UGC']\n",
    "partner = claim_1[claim_1['content_type'] == 'Partner-provided']"
   ]
  },
  {
   "cell_type": "markdown",
   "metadata": {},
   "source": [
    "find out all labels of the shows in asset label column"
   ]
  },
  {
   "cell_type": "code",
   "execution_count": 10,
   "metadata": {},
   "outputs": [
    {
     "data": {
      "text/plain": [
       "array(['AA|BB', 'AA|CC'], dtype=object)"
      ]
     },
     "execution_count": 10,
     "metadata": {},
     "output_type": "execute_result"
    }
   ],
   "source": [
    "ugc['asset_labels'].unique()"
   ]
  },
  {
   "cell_type": "markdown",
   "metadata": {},
   "source": [
    "# separate UGC assets into 2 groups: blank assets and named assets"
   ]
  },
  {
   "cell_type": "code",
   "execution_count": 11,
   "metadata": {},
   "outputs": [
    {
     "data": {
      "text/html": [
       "<div>\n",
       "<style scoped>\n",
       "    .dataframe tbody tr th:only-of-type {\n",
       "        vertical-align: middle;\n",
       "    }\n",
       "\n",
       "    .dataframe tbody tr th {\n",
       "        vertical-align: top;\n",
       "    }\n",
       "\n",
       "    .dataframe thead th {\n",
       "        text-align: right;\n",
       "    }\n",
       "</style>\n",
       "<table border=\"1\" class=\"dataframe\">\n",
       "  <thead>\n",
       "    <tr style=\"text-align: right;\">\n",
       "      <th></th>\n",
       "      <th>content_type</th>\n",
       "      <th>video_title</th>\n",
       "      <th>channel_display_name</th>\n",
       "      <th>asset_labels</th>\n",
       "      <th>owned_views</th>\n",
       "      <th>youtube_revenue</th>\n",
       "      <th>partner_revenue</th>\n",
       "    </tr>\n",
       "  </thead>\n",
       "  <tbody>\n",
       "  </tbody>\n",
       "</table>\n",
       "</div>"
      ],
      "text/plain": [
       "Empty DataFrame\n",
       "Columns: [content_type, video_title, channel_display_name, asset_labels, owned_views, youtube_revenue, partner_revenue]\n",
       "Index: []"
      ]
     },
     "execution_count": 11,
     "metadata": {},
     "output_type": "execute_result"
    }
   ],
   "source": [
    "ugc_blank = ugc[ugc['asset_labels'] == 0]\n",
    "#ugc_blank = ugc_blank.groupby(['asset_labels','content_type']).sum().reset_index()\n",
    "ugc_blank"
   ]
  },
  {
   "cell_type": "code",
   "execution_count": 12,
   "metadata": {},
   "outputs": [
    {
     "data": {
      "text/plain": [
       "31.615661"
      ]
     },
     "execution_count": 12,
     "metadata": {},
     "output_type": "execute_result"
    }
   ],
   "source": [
    "ugc_fill = ugc[ugc['asset_labels'] !=0]\n",
    "ugc_fill['partner_revenue'].sum()"
   ]
  },
  {
   "cell_type": "code",
   "execution_count": 13,
   "metadata": {},
   "outputs": [
    {
     "data": {
      "text/plain": [
       "31.615661"
      ]
     },
     "execution_count": 13,
     "metadata": {},
     "output_type": "execute_result"
    }
   ],
   "source": [
    "ugc_blank['partner_revenue'].sum() + ugc_fill['partner_revenue'].sum()"
   ]
  },
  {
   "cell_type": "markdown",
   "metadata": {},
   "source": [
    "double check asset labels column again for possible uncorrect/replace asset label"
   ]
  },
  {
   "cell_type": "markdown",
   "metadata": {},
   "source": [
    "# start to break the assets with \"|\" for named assets and even out their views, youtube rev. and partner rev. "
   ]
  },
  {
   "cell_type": "code",
   "execution_count": 14,
   "metadata": {},
   "outputs": [
    {
     "data": {
      "text/html": [
       "<div>\n",
       "<style scoped>\n",
       "    .dataframe tbody tr th:only-of-type {\n",
       "        vertical-align: middle;\n",
       "    }\n",
       "\n",
       "    .dataframe tbody tr th {\n",
       "        vertical-align: top;\n",
       "    }\n",
       "\n",
       "    .dataframe thead th {\n",
       "        text-align: right;\n",
       "    }\n",
       "</style>\n",
       "<table border=\"1\" class=\"dataframe\">\n",
       "  <thead>\n",
       "    <tr style=\"text-align: right;\">\n",
       "      <th></th>\n",
       "      <th>0</th>\n",
       "      <th>1</th>\n",
       "      <th>total</th>\n",
       "      <th>denominator</th>\n",
       "    </tr>\n",
       "  </thead>\n",
       "  <tbody>\n",
       "    <tr>\n",
       "      <th>0</th>\n",
       "      <td>NaN</td>\n",
       "      <td>NaN</td>\n",
       "      <td>0.0</td>\n",
       "      <td>2.0</td>\n",
       "    </tr>\n",
       "    <tr>\n",
       "      <th>2</th>\n",
       "      <td>NaN</td>\n",
       "      <td>NaN</td>\n",
       "      <td>0.0</td>\n",
       "      <td>2.0</td>\n",
       "    </tr>\n",
       "  </tbody>\n",
       "</table>\n",
       "</div>"
      ],
      "text/plain": [
       "    0   1  total  denominator\n",
       "0 NaN NaN    0.0          2.0\n",
       "2 NaN NaN    0.0          2.0"
      ]
     },
     "execution_count": 14,
     "metadata": {},
     "output_type": "execute_result"
    }
   ],
   "source": [
    "# Caculate how many asset ID are in each cell\n",
    "df_process= ugc_fill[\"asset_labels\"].str.split(\"|\", n = 40, expand = True)  #split by |\n",
    "df_process.fillna(value=pd.np.nan, inplace=True)  # fill none with na\n",
    "df_process = df_process.fillna(1)  # fill na with 1\n",
    "df_process = df_process.apply(pd.to_numeric,errors='coerce')  # change string to numrical, in this case, string will be na\n",
    "df_process['total'] = df_process.sum(axis=1) #sum how many \"1\"\n",
    "df_process['denominator'] =  len(df_process.columns) - df_process['total']-1  # how many assets IDs\n",
    "df_process.head()"
   ]
  },
  {
   "cell_type": "code",
   "execution_count": 16,
   "metadata": {},
   "outputs": [
    {
     "data": {
      "text/plain": [
       "['owned_views', 'youtube_revenue', 'partner_revenue']"
      ]
     },
     "execution_count": 16,
     "metadata": {},
     "output_type": "execute_result"
    }
   ],
   "source": [
    "colum_name = list(ugc_fill.columns)[4:7]\n",
    "colum_name"
   ]
  },
  {
   "cell_type": "code",
   "execution_count": 17,
   "metadata": {},
   "outputs": [
    {
     "data": {
      "text/html": [
       "<div>\n",
       "<style scoped>\n",
       "    .dataframe tbody tr th:only-of-type {\n",
       "        vertical-align: middle;\n",
       "    }\n",
       "\n",
       "    .dataframe tbody tr th {\n",
       "        vertical-align: top;\n",
       "    }\n",
       "\n",
       "    .dataframe thead th {\n",
       "        text-align: right;\n",
       "    }\n",
       "</style>\n",
       "<table border=\"1\" class=\"dataframe\">\n",
       "  <thead>\n",
       "    <tr style=\"text-align: right;\">\n",
       "      <th></th>\n",
       "      <th>content_type</th>\n",
       "      <th>video_title</th>\n",
       "      <th>channel_display_name</th>\n",
       "      <th>asset_labels</th>\n",
       "      <th>owned_views avg</th>\n",
       "      <th>youtube_revenue avg</th>\n",
       "      <th>partner_revenue avg</th>\n",
       "      <th>Number_AssetID</th>\n",
       "    </tr>\n",
       "  </thead>\n",
       "  <tbody>\n",
       "    <tr>\n",
       "      <th>0</th>\n",
       "      <td>UGC</td>\n",
       "      <td>0.0</td>\n",
       "      <td>0.0</td>\n",
       "      <td>AA|BB</td>\n",
       "      <td>22225.5</td>\n",
       "      <td>26.903026</td>\n",
       "      <td>14.798336</td>\n",
       "      <td>2.0</td>\n",
       "    </tr>\n",
       "    <tr>\n",
       "      <th>2</th>\n",
       "      <td>UGC</td>\n",
       "      <td>0.0</td>\n",
       "      <td>0.0</td>\n",
       "      <td>AA|CC</td>\n",
       "      <td>295.5</td>\n",
       "      <td>1.835370</td>\n",
       "      <td>1.009495</td>\n",
       "      <td>2.0</td>\n",
       "    </tr>\n",
       "  </tbody>\n",
       "</table>\n",
       "</div>"
      ],
      "text/plain": [
       "  content_type  video_title  channel_display_name asset_labels  \\\n",
       "0          UGC          0.0                   0.0        AA|BB   \n",
       "2          UGC          0.0                   0.0        AA|CC   \n",
       "\n",
       "   owned_views avg  youtube_revenue avg  partner_revenue avg  Number_AssetID  \n",
       "0          22225.5            26.903026            14.798336             2.0  \n",
       "2            295.5             1.835370             1.009495             2.0  "
      ]
     },
     "execution_count": 17,
     "metadata": {},
     "output_type": "execute_result"
    }
   ],
   "source": [
    "## Avg the columns have to be averaged\n",
    "colum_name = list(ugc_fill.columns)[4:7]\n",
    "for n in colum_name:\n",
    "    ugc_fill[n + ' avg']  = ugc_fill[n]/df_process['denominator']\n",
    "\n",
    "\n",
    "ugc_fill.drop(ugc.columns[4:7], axis = 1, inplace = True) ## drop off the un-avg column, we don't need them\n",
    "ugc_fill['Number_AssetID'] = df_process['denominator']  ## add the number of asset IDs in one cell in this avg df\n",
    "ugc_fill.head()"
   ]
  },
  {
   "cell_type": "markdown",
   "metadata": {},
   "source": [
    "Breaking down multiple Asset IDs"
   ]
  },
  {
   "cell_type": "code",
   "execution_count": 18,
   "metadata": {},
   "outputs": [
    {
     "data": {
      "text/html": [
       "<div>\n",
       "<style scoped>\n",
       "    .dataframe tbody tr th:only-of-type {\n",
       "        vertical-align: middle;\n",
       "    }\n",
       "\n",
       "    .dataframe tbody tr th {\n",
       "        vertical-align: top;\n",
       "    }\n",
       "\n",
       "    .dataframe thead th {\n",
       "        text-align: right;\n",
       "    }\n",
       "</style>\n",
       "<table border=\"1\" class=\"dataframe\">\n",
       "  <thead>\n",
       "    <tr style=\"text-align: right;\">\n",
       "      <th></th>\n",
       "      <th>content_type</th>\n",
       "      <th>video_title</th>\n",
       "      <th>channel_display_name</th>\n",
       "      <th>asset_labels</th>\n",
       "      <th>owned_views avg</th>\n",
       "      <th>youtube_revenue avg</th>\n",
       "      <th>partner_revenue avg</th>\n",
       "      <th>Number_AssetID</th>\n",
       "    </tr>\n",
       "  </thead>\n",
       "  <tbody>\n",
       "    <tr>\n",
       "      <th>0</th>\n",
       "      <td>UGC</td>\n",
       "      <td>0.0</td>\n",
       "      <td>0.0</td>\n",
       "      <td>AA|BB</td>\n",
       "      <td>22225.5</td>\n",
       "      <td>26.903026</td>\n",
       "      <td>14.798336</td>\n",
       "      <td>2.0</td>\n",
       "    </tr>\n",
       "    <tr>\n",
       "      <th>2</th>\n",
       "      <td>UGC</td>\n",
       "      <td>0.0</td>\n",
       "      <td>0.0</td>\n",
       "      <td>AA|CC</td>\n",
       "      <td>295.5</td>\n",
       "      <td>1.835370</td>\n",
       "      <td>1.009495</td>\n",
       "      <td>2.0</td>\n",
       "    </tr>\n",
       "  </tbody>\n",
       "</table>\n",
       "</div>"
      ],
      "text/plain": [
       "  content_type  video_title  channel_display_name asset_labels  \\\n",
       "0          UGC          0.0                   0.0        AA|BB   \n",
       "2          UGC          0.0                   0.0        AA|CC   \n",
       "\n",
       "   owned_views avg  youtube_revenue avg  partner_revenue avg  Number_AssetID  \n",
       "0          22225.5            26.903026            14.798336             2.0  \n",
       "2            295.5             1.835370             1.009495             2.0  "
      ]
     },
     "execution_count": 18,
     "metadata": {},
     "output_type": "execute_result"
    }
   ],
   "source": [
    "#select rows need to be broke down\n",
    "array = ugc_fill[ugc_fill['Number_AssetID']>1]   ## this are df need to be broke down\n",
    "df_stay = ugc_fill[ugc_fill['Number_AssetID']<=1] \n",
    "array.head()"
   ]
  },
  {
   "cell_type": "code",
   "execution_count": 19,
   "metadata": {},
   "outputs": [],
   "source": [
    "# define the function the how to break the row \n",
    "def fixRow (row):\n",
    "    rows = pd.DataFrame()\n",
    "    for item in row['asset_labels'].split('|'):\n",
    "        df_newrow = row\n",
    "        df_newrow['asset_labels'] = item\n",
    "        rows = rows.append(df_newrow)\n",
    "    return rows"
   ]
  },
  {
   "cell_type": "code",
   "execution_count": 20,
   "metadata": {},
   "outputs": [
    {
     "name": "stdout",
     "output_type": "stream",
     "text": [
      "0\n"
     ]
    },
    {
     "name": "stderr",
     "output_type": "stream",
     "text": [
      "/anaconda3/lib/python3.7/site-packages/ipykernel_launcher.py:6: SettingWithCopyWarning: \n",
      "A value is trying to be set on a copy of a slice from a DataFrame\n",
      "\n",
      "See the caveats in the documentation: http://pandas.pydata.org/pandas-docs/stable/indexing.html#indexing-view-versus-copy\n",
      "  \n"
     ]
    },
    {
     "data": {
      "text/html": [
       "<div>\n",
       "<style scoped>\n",
       "    .dataframe tbody tr th:only-of-type {\n",
       "        vertical-align: middle;\n",
       "    }\n",
       "\n",
       "    .dataframe tbody tr th {\n",
       "        vertical-align: top;\n",
       "    }\n",
       "\n",
       "    .dataframe thead th {\n",
       "        text-align: right;\n",
       "    }\n",
       "</style>\n",
       "<table border=\"1\" class=\"dataframe\">\n",
       "  <thead>\n",
       "    <tr style=\"text-align: right;\">\n",
       "      <th></th>\n",
       "      <th>Number_AssetID</th>\n",
       "      <th>asset_labels</th>\n",
       "      <th>channel_display_name</th>\n",
       "      <th>content_type</th>\n",
       "      <th>owned_views avg</th>\n",
       "      <th>partner_revenue avg</th>\n",
       "      <th>video_title</th>\n",
       "      <th>youtube_revenue avg</th>\n",
       "    </tr>\n",
       "  </thead>\n",
       "  <tbody>\n",
       "    <tr>\n",
       "      <th>0</th>\n",
       "      <td>2.0</td>\n",
       "      <td>AA</td>\n",
       "      <td>0.0</td>\n",
       "      <td>UGC</td>\n",
       "      <td>22225.5</td>\n",
       "      <td>14.798336</td>\n",
       "      <td>0.0</td>\n",
       "      <td>26.903026</td>\n",
       "    </tr>\n",
       "    <tr>\n",
       "      <th>0</th>\n",
       "      <td>2.0</td>\n",
       "      <td>BB</td>\n",
       "      <td>0.0</td>\n",
       "      <td>UGC</td>\n",
       "      <td>22225.5</td>\n",
       "      <td>14.798336</td>\n",
       "      <td>0.0</td>\n",
       "      <td>26.903026</td>\n",
       "    </tr>\n",
       "    <tr>\n",
       "      <th>2</th>\n",
       "      <td>2.0</td>\n",
       "      <td>AA</td>\n",
       "      <td>0.0</td>\n",
       "      <td>UGC</td>\n",
       "      <td>295.5</td>\n",
       "      <td>1.009495</td>\n",
       "      <td>0.0</td>\n",
       "      <td>1.835370</td>\n",
       "    </tr>\n",
       "    <tr>\n",
       "      <th>2</th>\n",
       "      <td>2.0</td>\n",
       "      <td>CC</td>\n",
       "      <td>0.0</td>\n",
       "      <td>UGC</td>\n",
       "      <td>295.5</td>\n",
       "      <td>1.009495</td>\n",
       "      <td>0.0</td>\n",
       "      <td>1.835370</td>\n",
       "    </tr>\n",
       "  </tbody>\n",
       "</table>\n",
       "</div>"
      ],
      "text/plain": [
       "   Number_AssetID asset_labels  channel_display_name content_type  \\\n",
       "0             2.0           AA                   0.0          UGC   \n",
       "0             2.0           BB                   0.0          UGC   \n",
       "2             2.0           AA                   0.0          UGC   \n",
       "2             2.0           CC                   0.0          UGC   \n",
       "\n",
       "   owned_views avg  partner_revenue avg  video_title  youtube_revenue avg  \n",
       "0          22225.5            14.798336          0.0            26.903026  \n",
       "0          22225.5            14.798336          0.0            26.903026  \n",
       "2            295.5             1.009495          0.0             1.835370  \n",
       "2            295.5             1.009495          0.0             1.835370  "
      ]
     },
     "execution_count": 20,
     "metadata": {},
     "output_type": "execute_result"
    }
   ],
   "source": [
    "# put the function back into the rows\n",
    "blank = pd.DataFrame()\n",
    "\n",
    "for i in range(len(array)):\n",
    "    if i % 1000 == 0:\n",
    "        print(i)\n",
    "    blank = blank.append(fixRow(array.iloc[i]))\n",
    "    \n",
    "blank.head()\n",
    "\n",
    "#fixRow(array.iloc[1]).append(fixRow(array.iloc[0])).head()\n",
    "    #blank = blank.append()"
   ]
  },
  {
   "cell_type": "code",
   "execution_count": 21,
   "metadata": {},
   "outputs": [
    {
     "data": {
      "text/plain": [
       "31.615661000000003"
      ]
     },
     "execution_count": 21,
     "metadata": {},
     "output_type": "execute_result"
    }
   ],
   "source": [
    "blank['partner_revenue avg'].sum()"
   ]
  },
  {
   "cell_type": "code",
   "execution_count": 22,
   "metadata": {},
   "outputs": [
    {
     "data": {
      "text/plain": [
       "0.0"
      ]
     },
     "execution_count": 22,
     "metadata": {},
     "output_type": "execute_result"
    }
   ],
   "source": [
    "df_stay['partner_revenue avg'].sum()"
   ]
  },
  {
   "cell_type": "code",
   "execution_count": 23,
   "metadata": {},
   "outputs": [
    {
     "name": "stderr",
     "output_type": "stream",
     "text": [
      "/anaconda3/lib/python3.7/site-packages/pandas/core/frame.py:6692: FutureWarning: Sorting because non-concatenation axis is not aligned. A future version\n",
      "of pandas will change to not sort by default.\n",
      "\n",
      "To accept the future behavior, pass 'sort=False'.\n",
      "\n",
      "To retain the current behavior and silence the warning, pass 'sort=True'.\n",
      "\n",
      "  sort=sort)\n"
     ]
    }
   ],
   "source": [
    "#Combine the \"stay\" file and the new broke down file. Generate this new mastersheet\n",
    "new_ugc = df_stay.append(blank)"
   ]
  },
  {
   "cell_type": "code",
   "execution_count": 24,
   "metadata": {},
   "outputs": [
    {
     "data": {
      "text/plain": [
       "31.615661000000003"
      ]
     },
     "execution_count": 24,
     "metadata": {},
     "output_type": "execute_result"
    }
   ],
   "source": [
    "new_ugc['partner_revenue avg'].sum()"
   ]
  },
  {
   "cell_type": "code",
   "execution_count": null,
   "metadata": {},
   "outputs": [],
   "source": [
    "new_ugc = new_ugc.rename(columns={'owned_views avg':'owned_views',\n",
    "                                  'partner_revenue avg':'partner_revenue',\n",
    "                                  'youtube_revenue avg':'youtube_revenue'})"
   ]
  },
  {
   "cell_type": "code",
   "execution_count": null,
   "metadata": {},
   "outputs": [],
   "source": [
    "new_ugc = new_ugc[['content_type', 'channel_display_name', 'asset_labels',\n",
    "       'owned_views', 'youtube_revenue', 'partner_revenue']]"
   ]
  },
  {
   "cell_type": "code",
   "execution_count": null,
   "metadata": {},
   "outputs": [],
   "source": [
    "new_ugc = new_ugc.groupby(['asset_labels','content_type']).sum().reset_index()"
   ]
  },
  {
   "cell_type": "code",
   "execution_count": null,
   "metadata": {},
   "outputs": [],
   "source": [
    "ugc_group = new_ugc.append(ugc_blank)\n",
    "ugc_group"
   ]
  },
  {
   "cell_type": "code",
   "execution_count": null,
   "metadata": {},
   "outputs": [],
   "source": [
    "ugc_group['partner_revenue'].sum()"
   ]
  },
  {
   "cell_type": "code",
   "execution_count": null,
   "metadata": {},
   "outputs": [],
   "source": [
    "partner_group = partner.groupby(['channel_display_name','content_type']).sum().reset_index()"
   ]
  },
  {
   "cell_type": "code",
   "execution_count": null,
   "metadata": {},
   "outputs": [],
   "source": [
    "partner_group = partner_group.rename(columns={'channel_display_name':'asset_labels'})\n",
    "partner_group"
   ]
  },
  {
   "cell_type": "code",
   "execution_count": null,
   "metadata": {},
   "outputs": [],
   "source": [
    "final_combined = pd.DataFrame()\n",
    "\n",
    "final_combined = final_combined.append(ugc_group,ignore_index=True)\n",
    "final_combined = final_combined.append(partner_group,ignore_index=True)"
   ]
  },
  {
   "cell_type": "code",
   "execution_count": null,
   "metadata": {},
   "outputs": [],
   "source": [
    "final_combined.reset_index()"
   ]
  },
  {
   "cell_type": "code",
   "execution_count": null,
   "metadata": {},
   "outputs": [],
   "source": [
    "final_combined['partner_revenue'].sum()"
   ]
  },
  {
   "cell_type": "code",
   "execution_count": null,
   "metadata": {},
   "outputs": [],
   "source": [
    "final_combined.to_csv('ad_partner_rev.csv')"
   ]
  },
  {
   "cell_type": "code",
   "execution_count": null,
   "metadata": {},
   "outputs": [],
   "source": []
  }
 ],
 "metadata": {
  "kernelspec": {
   "display_name": "Python 3",
   "language": "python",
   "name": "python3"
  },
  "language_info": {
   "codemirror_mode": {
    "name": "ipython",
    "version": 3
   },
   "file_extension": ".py",
   "mimetype": "text/x-python",
   "name": "python",
   "nbconvert_exporter": "python",
   "pygments_lexer": "ipython3",
   "version": "3.7.3"
  }
 },
 "nbformat": 4,
 "nbformat_minor": 2
}
